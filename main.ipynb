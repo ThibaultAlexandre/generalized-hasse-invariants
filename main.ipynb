{
 "cells": [
  {
   "cell_type": "markdown",
   "id": "7a365ea5",
   "metadata": {},
   "source": [
    "# Generalized Hasse invariants for $Sp_{2g}$"
   ]
  },
  {
   "cell_type": "markdown",
   "id": "5864229d",
   "metadata": {},
   "source": [
    "This simple class allows you to perform some explicit computations with GZipFlags and automorphic line bundles defined over them."
   ]
  },
  {
   "cell_type": "code",
   "execution_count": 1,
   "id": "7d6e6c80",
   "metadata": {},
   "outputs": [],
   "source": [
    "class GZipFlag:\n",
    "    def __init__(self,g,p):\n",
    "        self.g = g\n",
    "        self.p = p\n",
    "        self.R = RootSystem(\"A\"+str(g-1)).ambient_space() #Ag-1\n",
    "        self.W =  WeylGroup(self.R,prefix ='s')\n",
    "        self.RG = RootSystem(\"C\"+str(g)).ambient_space() #Cg\n",
    "        self.WG = WeylGroup(self.RG, prefix ='s')\n",
    "        self.P = RootSystem(\"A\"+str(g-1)).weight_lattice()\n",
    "        self.PG = RootSystem(\"C\"+str(g)).weight_lattice()\n",
    "        self.phi_G = self.RG.positive_roots()\n",
    "\n",
    "        I_siegel = [i for i in range(1,g)]\n",
    "        w0 = self.WG.long_element()\n",
    "        w0J = self.get_longest_element_connected(I_siegel)\n",
    "        self.z = w0*w0J\n",
    "        \n",
    "    def get_longest_element_connected(self, I):\n",
    "        simple = self.WG.simple_reflections() \n",
    "        res = self.WG.unit()\n",
    "        for k in range(len(I),0,-1):\n",
    "            temp = self.WG.unit()\n",
    "            for j in range(k):\n",
    "                temp = temp * simple[I[j]]\n",
    "            res = res * temp\n",
    "        return res\n",
    "    \n",
    "    def Dw(self, w, char):\n",
    "        char = self.RG(char)\n",
    "        chi = char - self.p*(self.z*w.inverse()).action(char)\n",
    "        return chi\n",
    "    \n",
    "    def Dw_inverse(self,w,chi):\n",
    "        chi = self.RG(chi)\n",
    "        wprime = self.z*w.inverse()\n",
    "        r = wprime.order()\n",
    "        char = self.RG(self.g*[0])\n",
    "        for i in range(r):\n",
    "            char = char + self.p**i*((wprime**i).action(chi))\n",
    "        char = -1/(self.p**r-1)*char\n",
    "        return char\n",
    "    \n",
    "    def has_hasse_invariant(self, w, chi, positive_weight = False):\n",
    "        if positive_weight:\n",
    "            chiprime = self.z.action(self.RG(chi))\n",
    "        else:\n",
    "            chiprime = self.RG(chi)\n",
    "        char = self.Dw_inverse(w,chiprime)\n",
    "        char = self.RG(char).to_weight_space()\n",
    "        values = {}\n",
    "        has_hasse = True\n",
    "        for v,alpha in w.bruhat_lower_covers_coroots():\n",
    "            alpha = self.RG(alpha)\n",
    "            charprime = w.action(alpha).to_weight_space()\n",
    "            values[str(v)] = -char.symmetric_form(charprime)\n",
    "            has_hasse = has_hasse and (values[str(v)] > 0)\n",
    "        return has_hasse, values\n",
    "    \n",
    "    def minimal_left_coset_representatives(self,I):\n",
    "        simple = self.RG.simple_roots()\n",
    "        SI = [simple[i] for i in I]\n",
    "        i = 1\n",
    "        res = {}\n",
    "        for w in self.WG:\n",
    "            is_in = True\n",
    "            for alpha in SI:\n",
    "                alpha_prime = w.inverse().action(alpha)\n",
    "                if alpha_prime not in self.phi_G:\n",
    "                    is_in = False\n",
    "                    break\n",
    "            if is_in:\n",
    "                res[i] = w\n",
    "                i = i+1\n",
    "        return res\n",
    "    \n",
    "    def extends_to_I(self, chi, I):\n",
    "        chi = self.RG(chi).to_weight_space()\n",
    "        simple = self.RG.simple_coroots()\n",
    "        SI = [simple[i] for i in I]\n",
    "        extends = True\n",
    "        for alpha in SI:\n",
    "            if chi.symmetric_form(alpha.to_weight_space()) != 0:\n",
    "                extends = False\n",
    "                break\n",
    "        return extends\n",
    "    \n",
    "    def has_hasse_invariant_all_strata(self, chi, I, details = False):\n",
    "        if not self.extends_to_I(chi,I):\n",
    "            raise ValueError('The character is not defined on the GZipFlag of type I')\n",
    "        res = True\n",
    "        I_W = self.minimal_left_coset_representatives(I)\n",
    "        for w in I_W.values():\n",
    "            has_hasse, values = self.has_hasse_invariant(w,chi)\n",
    "            res = res and has_hasse\n",
    "            if details:\n",
    "                print(str(has_hasse) + ' : '+ str(w))\n",
    "        return res"
   ]
  },
  {
   "cell_type": "markdown",
   "id": "6f1f9c99",
   "metadata": {},
   "source": [
    "# Example"
   ]
  },
  {
   "cell_type": "markdown",
   "id": "728012cd",
   "metadata": {},
   "source": [
    "We define the GZipFlag with $G = Sp_6$ over $\\mathbb{F}_7$. "
   ]
  },
  {
   "cell_type": "code",
   "execution_count": 2,
   "id": "06ffde0b",
   "metadata": {},
   "outputs": [],
   "source": [
    "Y = GZipFlag(g = 3, p = 7)"
   ]
  },
  {
   "cell_type": "markdown",
   "id": "0d435e12",
   "metadata": {},
   "source": [
    "The next line returns true if the line bundle $\\mathcal{L}_{(-2,-3,-5)}$ has generalized Hasse invariants on all strata of the stack $Sp_6-\\text{ZipFlag}^{B}$ where $B \\subset Sp_6$ is the Borel subgroup."
   ]
  },
  {
   "cell_type": "code",
   "execution_count": 3,
   "id": "d1ceed8a",
   "metadata": {},
   "outputs": [
    {
     "data": {
      "text/plain": [
       "False"
      ]
     },
     "execution_count": 3,
     "metadata": {},
     "output_type": "execute_result"
    }
   ],
   "source": [
    "Y.has_hasse_invariant_all_strata([-2,-3,-5],[])"
   ]
  },
  {
   "cell_type": "markdown",
   "id": "3967efbe",
   "metadata": {},
   "source": [
    "If you want more details on each strata, add \"details = True\" to the previous command "
   ]
  },
  {
   "cell_type": "code",
   "execution_count": 4,
   "id": "2a9a3331",
   "metadata": {},
   "outputs": [
    {
     "name": "stdout",
     "output_type": "stream",
     "text": [
      "True : 1\n",
      "True : s3\n",
      "True : s3*s2\n",
      "True : s3*s2*s1\n",
      "True : s3*s2*s3\n",
      "True : s3*s2*s3*s1\n",
      "True : s3*s2*s3*s1*s2\n",
      "True : s3*s2*s3*s1*s2*s3\n",
      "True : s2\n",
      "True : s2*s3\n",
      "True : s2*s3*s2\n",
      "True : s2*s3*s2*s1\n",
      "True : s3*s2*s3*s2\n",
      "True : s3*s2*s3*s2*s1\n",
      "True : s3*s2*s3*s1*s2*s1\n",
      "True : s3*s2*s3*s1*s2*s3*s1\n",
      "True : s2*s1\n",
      "True : s2*s3*s1\n",
      "True : s2*s3*s1*s2\n",
      "True : s2*s3*s1*s2*s1\n",
      "True : s2*s3*s1*s2*s3\n",
      "True : s2*s3*s1*s2*s3*s1\n",
      "True : s2*s3*s1*s2*s3*s1*s2\n",
      "True : s3*s2*s3*s1*s2*s3*s1*s2\n",
      "True : s1\n",
      "True : s3*s1\n",
      "True : s3*s1*s2\n",
      "True : s3*s1*s2*s1\n",
      "True : s3*s1*s2*s3\n",
      "True : s3*s1*s2*s3*s1\n",
      "True : s3*s1*s2*s3*s1*s2\n",
      "True : s3*s2*s3*s1*s2*s3*s2\n",
      "True : s1*s2\n",
      "True : s1*s2*s3\n",
      "False : s1*s2*s3*s2\n",
      "True : s1*s2*s3*s2*s1\n",
      "False : s3*s1*s2*s3*s2\n",
      "True : s3*s1*s2*s3*s2*s1\n",
      "False : s3*s1*s2*s3*s1*s2*s1\n",
      "True : s3*s2*s3*s1*s2*s3*s2*s1\n",
      "True : s1*s2*s1\n",
      "True : s1*s2*s3*s1\n",
      "True : s1*s2*s3*s1*s2\n",
      "False : s1*s2*s3*s1*s2*s1\n",
      "True : s2*s3*s1*s2*s3*s2\n",
      "True : s2*s3*s1*s2*s3*s2*s1\n",
      "True : s2*s3*s1*s2*s3*s1*s2*s1\n",
      "True : s3*s2*s3*s1*s2*s3*s1*s2*s1\n"
     ]
    },
    {
     "data": {
      "text/plain": [
       "False"
      ]
     },
     "execution_count": 4,
     "metadata": {},
     "output_type": "execute_result"
    }
   ],
   "source": [
    "Y.has_hasse_invariant_all_strata([-2,-3,-5], [], details = True)"
   ]
  },
  {
   "cell_type": "markdown",
   "id": "fd1df9a5",
   "metadata": {},
   "source": [
    "Run the next line if you want to know the situation on the particular stratum $w =  s1*s2*s3*s2$ "
   ]
  },
  {
   "cell_type": "code",
   "execution_count": 5,
   "id": "982379a9",
   "metadata": {},
   "outputs": [
    {
     "name": "stdout",
     "output_type": "stream",
     "text": [
      "{'s2*s3*s2': 1, 's3*s1*s2': 2/3, 's1*s2*s3': 0}\n",
      "False\n"
     ]
    }
   ],
   "source": [
    "w = Y.WG.from_reduced_word([1,2,3,2])\n",
    "has_hasse, values = Y.has_hasse_invariant(w, [-2,-3,-5])\n",
    "print(values)\n",
    "print(has_hasse)"
   ]
  },
  {
   "cell_type": "markdown",
   "id": "66100e85",
   "metadata": {},
   "source": [
    "It means that the section $s$ of $\\mathcal{L}_{(-2,-3,-5)}$ that lives on the open stratum $w =  s1*s2*s3*s2$ of $Sp_6-\\text{ZipFlag}^{B}$ has a divisor $\\text{div}(s) = \\overline{[s2*s3*s2]} + \\frac{2}{3}\\overline{[s3*s1*s2]} + 0\\overline{[s1*s2*s3]}$. In particular the section $s$ extends to the closed stratum but does not vanish on the border $\\overline{[s1*s2*s3]}$. In particular $\\mathcal{L}_{(-2,-3,-5)}$ has no Hasse invariant on $w$."
   ]
  },
  {
   "cell_type": "markdown",
   "id": "4546b4b1",
   "metadata": {},
   "source": [
    "Run the next line to look at the situation of the line bundle $\\mathcal{L}_{(-2,-2,-5)}$ on the partial $Sp_6-\\text{ZipFlag}^{I}$ of type $I = [(1,-1,0)]$."
   ]
  },
  {
   "cell_type": "code",
   "execution_count": 6,
   "id": "c60ad053",
   "metadata": {},
   "outputs": [
    {
     "name": "stdout",
     "output_type": "stream",
     "text": [
      "True : 1\n",
      "True : s3\n",
      "True : s3*s2\n",
      "True : s3*s2*s1\n",
      "True : s3*s2*s3\n",
      "True : s3*s2*s3*s1\n",
      "True : s3*s2*s3*s1*s2\n",
      "True : s3*s2*s3*s1*s2*s3\n",
      "True : s2\n",
      "True : s2*s3\n",
      "True : s2*s3*s2\n",
      "True : s2*s3*s2*s1\n",
      "True : s3*s2*s3*s2\n",
      "True : s3*s2*s3*s2*s1\n",
      "True : s3*s2*s3*s1*s2*s1\n",
      "True : s3*s2*s3*s1*s2*s3*s1\n",
      "True : s2*s1\n",
      "True : s2*s3*s1\n",
      "True : s2*s3*s1*s2\n",
      "True : s2*s3*s1*s2*s1\n",
      "True : s2*s3*s1*s2*s3\n",
      "True : s2*s3*s1*s2*s3*s1\n",
      "True : s2*s3*s1*s2*s3*s1*s2\n",
      "True : s3*s2*s3*s1*s2*s3*s1*s2\n"
     ]
    },
    {
     "data": {
      "text/plain": [
       "True"
      ]
     },
     "execution_count": 6,
     "metadata": {},
     "output_type": "execute_result"
    }
   ],
   "source": [
    "Y.has_hasse_invariant_all_strata([-2,-2,-5], [1], details = True)"
   ]
  },
  {
   "cell_type": "markdown",
   "id": "eb481f10",
   "metadata": {},
   "source": [
    "We notice that $\\mathcal{L}_{(-2,-2,-5)}$ has generalized hasse invariants for all strata $w \\in I_{W} \\subset W$."
   ]
  },
  {
   "cell_type": "markdown",
   "id": "5505ec33",
   "metadata": {},
   "source": [
    "If we give a character which does not extend to the partial $Sp_6-\\text{ZipFlag}^{I}$, we get an error."
   ]
  },
  {
   "cell_type": "code",
   "execution_count": 7,
   "id": "f1ace066",
   "metadata": {},
   "outputs": [
    {
     "ename": "ValueError",
     "evalue": "The character is not defined on the GZipFlag of type I",
     "output_type": "error",
     "traceback": [
      "\u001b[0;31m---------------------------------------------------------------------------\u001b[0m",
      "\u001b[0;31mValueError\u001b[0m                                Traceback (most recent call last)",
      "\u001b[0;32m<ipython-input-7-c000bdc3fc3c>\u001b[0m in \u001b[0;36m<module>\u001b[0;34m\u001b[0m\n\u001b[0;32m----> 1\u001b[0;31m \u001b[0mY\u001b[0m\u001b[0;34m.\u001b[0m\u001b[0mhas_hasse_invariant_all_strata\u001b[0m\u001b[0;34m(\u001b[0m\u001b[0;34m[\u001b[0m\u001b[0;34m-\u001b[0m\u001b[0mInteger\u001b[0m\u001b[0;34m(\u001b[0m\u001b[0;36m2\u001b[0m\u001b[0;34m)\u001b[0m\u001b[0;34m,\u001b[0m\u001b[0;34m-\u001b[0m\u001b[0mInteger\u001b[0m\u001b[0;34m(\u001b[0m\u001b[0;36m3\u001b[0m\u001b[0;34m)\u001b[0m\u001b[0;34m,\u001b[0m\u001b[0;34m-\u001b[0m\u001b[0mInteger\u001b[0m\u001b[0;34m(\u001b[0m\u001b[0;36m5\u001b[0m\u001b[0;34m)\u001b[0m\u001b[0;34m]\u001b[0m\u001b[0;34m,\u001b[0m \u001b[0;34m[\u001b[0m\u001b[0mInteger\u001b[0m\u001b[0;34m(\u001b[0m\u001b[0;36m1\u001b[0m\u001b[0;34m)\u001b[0m\u001b[0;34m]\u001b[0m\u001b[0;34m,\u001b[0m \u001b[0mdetails\u001b[0m \u001b[0;34m=\u001b[0m \u001b[0;32mTrue\u001b[0m\u001b[0;34m)\u001b[0m\u001b[0;34m\u001b[0m\u001b[0;34m\u001b[0m\u001b[0m\n\u001b[0m",
      "\u001b[0;32m<ipython-input-1-28209e321873>\u001b[0m in \u001b[0;36mhas_hasse_invariant_all_strata\u001b[0;34m(self, chi, I, details)\u001b[0m\n\u001b[1;32m     87\u001b[0m     \u001b[0;32mdef\u001b[0m \u001b[0mhas_hasse_invariant_all_strata\u001b[0m\u001b[0;34m(\u001b[0m\u001b[0mself\u001b[0m\u001b[0;34m,\u001b[0m \u001b[0mchi\u001b[0m\u001b[0;34m,\u001b[0m \u001b[0mI\u001b[0m\u001b[0;34m,\u001b[0m \u001b[0mdetails\u001b[0m \u001b[0;34m=\u001b[0m \u001b[0;32mFalse\u001b[0m\u001b[0;34m)\u001b[0m\u001b[0;34m:\u001b[0m\u001b[0;34m\u001b[0m\u001b[0;34m\u001b[0m\u001b[0m\n\u001b[1;32m     88\u001b[0m         \u001b[0;32mif\u001b[0m \u001b[0;32mnot\u001b[0m \u001b[0mself\u001b[0m\u001b[0;34m.\u001b[0m\u001b[0mextends_to_I\u001b[0m\u001b[0;34m(\u001b[0m\u001b[0mchi\u001b[0m\u001b[0;34m,\u001b[0m\u001b[0mI\u001b[0m\u001b[0;34m)\u001b[0m\u001b[0;34m:\u001b[0m\u001b[0;34m\u001b[0m\u001b[0;34m\u001b[0m\u001b[0m\n\u001b[0;32m---> 89\u001b[0;31m             \u001b[0;32mraise\u001b[0m \u001b[0mValueError\u001b[0m\u001b[0;34m(\u001b[0m\u001b[0;34m'The character is not defined on the GZipFlag of type I'\u001b[0m\u001b[0;34m)\u001b[0m\u001b[0;34m\u001b[0m\u001b[0;34m\u001b[0m\u001b[0m\n\u001b[0m\u001b[1;32m     90\u001b[0m         \u001b[0mres\u001b[0m \u001b[0;34m=\u001b[0m \u001b[0;32mTrue\u001b[0m\u001b[0;34m\u001b[0m\u001b[0;34m\u001b[0m\u001b[0m\n\u001b[1;32m     91\u001b[0m         \u001b[0mI_W\u001b[0m \u001b[0;34m=\u001b[0m \u001b[0mself\u001b[0m\u001b[0;34m.\u001b[0m\u001b[0mminimal_left_coset_representatives\u001b[0m\u001b[0;34m(\u001b[0m\u001b[0mI\u001b[0m\u001b[0;34m)\u001b[0m\u001b[0;34m\u001b[0m\u001b[0;34m\u001b[0m\u001b[0m\n",
      "\u001b[0;31mValueError\u001b[0m: The character is not defined on the GZipFlag of type I"
     ]
    }
   ],
   "source": [
    "Y.has_hasse_invariant_all_strata([-2,-3,-5], [1], details = True)"
   ]
  },
  {
   "cell_type": "code",
   "execution_count": null,
   "id": "a9c5df41",
   "metadata": {},
   "outputs": [],
   "source": []
  }
 ],
 "metadata": {
  "kernelspec": {
   "display_name": "SageMath 9.2",
   "language": "sage",
   "name": "sagemath"
  },
  "language_info": {
   "codemirror_mode": {
    "name": "ipython",
    "version": 3
   },
   "file_extension": ".py",
   "mimetype": "text/x-python",
   "name": "python",
   "nbconvert_exporter": "python",
   "pygments_lexer": "ipython3",
   "version": "3.8.10"
  }
 },
 "nbformat": 4,
 "nbformat_minor": 5
}
